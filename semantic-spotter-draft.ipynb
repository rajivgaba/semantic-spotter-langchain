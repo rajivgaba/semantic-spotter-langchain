{
 "cells": [
  {
   "cell_type": "code",
   "execution_count": 2,
   "id": "8c865d7c",
   "metadata": {},
   "outputs": [],
   "source": [
    "pplx_api_key = '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'"
   ]
  },
  {
   "cell_type": "code",
   "execution_count": 3,
   "id": "c604d8a9",
   "metadata": {},
   "outputs": [],
   "source": [
    "# configurations\n",
    "\n",
    "config = {\n",
    "    'data_path' : '/Users/RajivGaba/aiml_projects/Semantic Spotter/Data/',\n",
    "    'chunk_size' : 1000,\n",
    "    'chunk_overlap' : 200,\n",
    "    'vector_store_name' : \"faiss_index\",\n",
    "    'hf_token' : \"*****\",\n",
    "    'embedding_model' : 'all-MiniLM-L6-v2',\n",
    "    'refresh_vector_store' : 'Y',\n",
    "    'cross_encoder_model': 'cross-encoder/ms-marco-MiniLM-L-6-v2',\n",
    "    'PPLX_API_KEY' : pplx_api_key,\n",
    "    'domain' : 'fashion',\n",
    "    'chat_model' : \"sonar-pro\"\n",
    "}"
   ]
  },
  {
   "cell_type": "code",
   "execution_count": 4,
   "id": "3d5276d3",
   "metadata": {},
   "outputs": [
    {
     "name": "stdout",
     "output_type": "stream",
     "text": [
      "Requirement already satisfied: sentence-transformers in /Users/RajivGaba/aiml_projects/.venv/lib/python3.13/site-packages (5.1.0)\n",
      "Requirement already satisfied: transformers<5.0.0,>=4.41.0 in /Users/RajivGaba/aiml_projects/.venv/lib/python3.13/site-packages (from sentence-transformers) (4.56.2)\n",
      "Requirement already satisfied: tqdm in /Users/RajivGaba/aiml_projects/.venv/lib/python3.13/site-packages (from sentence-transformers) (4.67.1)\n",
      "Requirement already satisfied: torch>=1.11.0 in /Users/RajivGaba/aiml_projects/.venv/lib/python3.13/site-packages (from sentence-transformers) (2.8.0)\n",
      "Requirement already satisfied: scikit-learn in /Users/RajivGaba/aiml_projects/.venv/lib/python3.13/site-packages (from sentence-transformers) (1.7.2)\n",
      "Requirement already satisfied: scipy in /Users/RajivGaba/aiml_projects/.venv/lib/python3.13/site-packages (from sentence-transformers) (1.16.2)\n",
      "Requirement already satisfied: huggingface-hub>=0.20.0 in /Users/RajivGaba/aiml_projects/.venv/lib/python3.13/site-packages (from sentence-transformers) (0.35.0)\n",
      "Requirement already satisfied: Pillow in /Users/RajivGaba/aiml_projects/.venv/lib/python3.13/site-packages (from sentence-transformers) (11.3.0)\n",
      "Requirement already satisfied: typing_extensions>=4.5.0 in /Users/RajivGaba/aiml_projects/.venv/lib/python3.13/site-packages (from sentence-transformers) (4.15.0)\n",
      "Requirement already satisfied: filelock in /Users/RajivGaba/aiml_projects/.venv/lib/python3.13/site-packages (from transformers<5.0.0,>=4.41.0->sentence-transformers) (3.19.1)\n",
      "Requirement already satisfied: numpy>=1.17 in /Users/RajivGaba/aiml_projects/.venv/lib/python3.13/site-packages (from transformers<5.0.0,>=4.41.0->sentence-transformers) (2.3.3)\n",
      "Requirement already satisfied: packaging>=20.0 in /Users/RajivGaba/aiml_projects/.venv/lib/python3.13/site-packages (from transformers<5.0.0,>=4.41.0->sentence-transformers) (25.0)\n",
      "Requirement already satisfied: pyyaml>=5.1 in /Users/RajivGaba/aiml_projects/.venv/lib/python3.13/site-packages (from transformers<5.0.0,>=4.41.0->sentence-transformers) (6.0.2)\n",
      "Requirement already satisfied: regex!=2019.12.17 in /Users/RajivGaba/aiml_projects/.venv/lib/python3.13/site-packages (from transformers<5.0.0,>=4.41.0->sentence-transformers) (2025.9.1)\n",
      "Requirement already satisfied: requests in /Users/RajivGaba/aiml_projects/.venv/lib/python3.13/site-packages (from transformers<5.0.0,>=4.41.0->sentence-transformers) (2.32.5)\n",
      "Requirement already satisfied: tokenizers<=0.23.0,>=0.22.0 in /Users/RajivGaba/aiml_projects/.venv/lib/python3.13/site-packages (from transformers<5.0.0,>=4.41.0->sentence-transformers) (0.22.0)\n",
      "Requirement already satisfied: safetensors>=0.4.3 in /Users/RajivGaba/aiml_projects/.venv/lib/python3.13/site-packages (from transformers<5.0.0,>=4.41.0->sentence-transformers) (0.6.2)\n",
      "Requirement already satisfied: fsspec>=2023.5.0 in /Users/RajivGaba/aiml_projects/.venv/lib/python3.13/site-packages (from huggingface-hub>=0.20.0->sentence-transformers) (2025.9.0)\n",
      "Requirement already satisfied: hf-xet<2.0.0,>=1.1.3 in /Users/RajivGaba/aiml_projects/.venv/lib/python3.13/site-packages (from huggingface-hub>=0.20.0->sentence-transformers) (1.1.10)\n",
      "Requirement already satisfied: setuptools in /Users/RajivGaba/aiml_projects/.venv/lib/python3.13/site-packages (from torch>=1.11.0->sentence-transformers) (80.9.0)\n",
      "Requirement already satisfied: sympy>=1.13.3 in /Users/RajivGaba/aiml_projects/.venv/lib/python3.13/site-packages (from torch>=1.11.0->sentence-transformers) (1.14.0)\n",
      "Requirement already satisfied: networkx in /Users/RajivGaba/aiml_projects/.venv/lib/python3.13/site-packages (from torch>=1.11.0->sentence-transformers) (3.5)\n",
      "Requirement already satisfied: jinja2 in /Users/RajivGaba/aiml_projects/.venv/lib/python3.13/site-packages (from torch>=1.11.0->sentence-transformers) (3.1.6)\n",
      "Requirement already satisfied: mpmath<1.4,>=1.1.0 in /Users/RajivGaba/aiml_projects/.venv/lib/python3.13/site-packages (from sympy>=1.13.3->torch>=1.11.0->sentence-transformers) (1.3.0)\n",
      "Requirement already satisfied: MarkupSafe>=2.0 in /Users/RajivGaba/aiml_projects/.venv/lib/python3.13/site-packages (from jinja2->torch>=1.11.0->sentence-transformers) (3.0.2)\n",
      "Requirement already satisfied: charset_normalizer<4,>=2 in /Users/RajivGaba/aiml_projects/.venv/lib/python3.13/site-packages (from requests->transformers<5.0.0,>=4.41.0->sentence-transformers) (3.4.3)\n",
      "Requirement already satisfied: idna<4,>=2.5 in /Users/RajivGaba/aiml_projects/.venv/lib/python3.13/site-packages (from requests->transformers<5.0.0,>=4.41.0->sentence-transformers) (3.10)\n",
      "Requirement already satisfied: urllib3<3,>=1.21.1 in /Users/RajivGaba/aiml_projects/.venv/lib/python3.13/site-packages (from requests->transformers<5.0.0,>=4.41.0->sentence-transformers) (2.5.0)\n",
      "Requirement already satisfied: certifi>=2017.4.17 in /Users/RajivGaba/aiml_projects/.venv/lib/python3.13/site-packages (from requests->transformers<5.0.0,>=4.41.0->sentence-transformers) (2025.8.3)\n",
      "Requirement already satisfied: joblib>=1.2.0 in /Users/RajivGaba/aiml_projects/.venv/lib/python3.13/site-packages (from scikit-learn->sentence-transformers) (1.5.2)\n",
      "Requirement already satisfied: threadpoolctl>=3.1.0 in /Users/RajivGaba/aiml_projects/.venv/lib/python3.13/site-packages (from scikit-learn->sentence-transformers) (3.6.0)\n"
     ]
    }
   ],
   "source": [
    "# install required packages\n",
    "\n",
    "! pip install -qU langchain-community pymupdf\n",
    "! pip install -qU langchain_huggingface\n",
    "! pip install sentence-transformers\n",
    "! pip install -qU \"langchain-perplexity\""
   ]
  },
  {
   "cell_type": "code",
   "execution_count": 5,
   "id": "453649c6",
   "metadata": {},
   "outputs": [
    {
     "data": {
      "text/plain": [
       "\"\\nimport kaggle\\nfrom kaggle.api.kaggle_api_extended import KaggleApi\\napi = KaggleApi()\\napi.authenticate()\\napi.dataset_download_files('promptcloud/myntra-e-commerce-product-data-november-2023', path='./data/', unzip=True)\\n\""
      ]
     },
     "execution_count": 5,
     "metadata": {},
     "output_type": "execute_result"
    }
   ],
   "source": [
    "\"\"\"\n",
    "import kaggle\n",
    "from kaggle.api.kaggle_api_extended import KaggleApi\n",
    "api = KaggleApi()\n",
    "api.authenticate()\n",
    "api.dataset_download_files('promptcloud/myntra-e-commerce-product-data-november-2023', path='./data/', unzip=True)\n",
    "\"\"\""
   ]
  },
  {
   "cell_type": "code",
   "execution_count": 6,
   "id": "9de251cf",
   "metadata": {},
   "outputs": [
    {
     "name": "stderr",
     "output_type": "stream",
     "text": [
      "/Users/RajivGaba/aiml_projects/.venv/lib/python3.13/site-packages/tqdm/auto.py:21: TqdmWarning: IProgress not found. Please update jupyter and ipywidgets. See https://ipywidgets.readthedocs.io/en/stable/user_install.html\n",
      "  from .autonotebook import tqdm as notebook_tqdm\n"
     ]
    }
   ],
   "source": [
    "# import libraries\n",
    "\n",
    "import os, glob\n",
    "import importlib\n",
    "\n",
    "# Restart kernel if needed\n",
    "try:\n",
    "    importlib.reload(importlib)\n",
    "except:\n",
    "    pass\n",
    "\n",
    "from pathlib import Path\n",
    "from langchain_community.document_loaders import PyMuPDFLoader, CSVLoader, TextLoader\n",
    "from langchain.text_splitter import RecursiveCharacterTextSplitter\n",
    "from langchain_huggingface import HuggingFaceEmbeddings\n",
    "from langchain.vectorstores import FAISS\n",
    "from sentence_transformers import CrossEncoder, util\n",
    "from langchain_core.prompts import ChatPromptTemplate\n",
    "from langchain_perplexity import ChatPerplexity"
   ]
  },
  {
   "cell_type": "code",
   "execution_count": 7,
   "id": "de4751e1",
   "metadata": {},
   "outputs": [],
   "source": [
    "# Define reusable functions\n",
    "\n",
    "def get_data_chunks(folder_path):\n",
    "    # loader = PyMuPDFLoader(pdf_file)\n",
    "    # documents = loader.load()\n",
    "\n",
    "    all_documents = []\n",
    "\n",
    "    # Loop through all files in the folder\n",
    "    for file_path in folder_path.iterdir():\n",
    "        if file_path.suffix.lower() == \".pdf\":\n",
    "            loader = PyMuPDFLoader(str(file_path))\n",
    "        elif file_path.suffix.lower() == \".csv\":\n",
    "            loader = CSVLoader(str(file_path))\n",
    "        elif file_path.suffix.lower() == \".txt\":\n",
    "            loader = TextLoader(str(file_path))\n",
    "        else:\n",
    "            continue  # Skip unsupported file types\n",
    "\n",
    "        # Load and append documents\n",
    "        documents = loader.load()\n",
    "        all_documents.extend(documents)    \n",
    "\n",
    "    # chunking/splitting\n",
    "    text_splitter = RecursiveCharacterTextSplitter(\n",
    "        chunk_size=config['chunk_size'],\n",
    "        chunk_overlap=config['chunk_overlap']\n",
    "    )\n",
    "    text_chunks = text_splitter.split_documents(documents=all_documents)\n",
    "    return text_chunks\n",
    "\n",
    "def get_embeddings_model():\n",
    "    embedding_model = HuggingFaceEmbeddings(model_name=config['embedding_model'], show_progress=True)\n",
    "    return embedding_model\n",
    "\n",
    "def create_vector_store(text_chunks, embedding_model):\n",
    "    if config['refresh_vector_store'] == 'Y' and os.path.exists(config['vector_store_name']):\n",
    "        vector_store = FAISS.from_documents(text_chunks, embedding_model)\n",
    "        vector_store.save_local(config['vector_store_name'])\n",
    "    else:\n",
    "        vector_store = FAISS.load_local(config['vector_store_name'], embedding_model, allow_dangerous_deserialization=True)\n",
    "\n",
    "def get_cross_encoder_score(query, results):\n",
    "    cross_encoder = CrossEncoder(config['cross_encoder_model'])\n",
    "    for i, res in enumerate(results):\n",
    "        ce_score = cross_encoder.predict([query, res.page_content])\n",
    "        print(ce_score)\n",
    "\n",
    "def create_chat_client():\n",
    "    return ChatPerplexity(\n",
    "        temperature=0, \n",
    "        pplx_api_key=config['PPLX_API_KEY'], \n",
    "        model=config['chat_model']\n",
    "    )\n",
    "\n",
    "def get_llm_response(query, results, domain):\n",
    "    output_json = {\n",
    "        \"name\": \"<<value>>\",\n",
    "        \"gender\": \"<<value>>\",\n",
    "        \"material\": \"<<value>>\",\n",
    "        \"fit\": \"<<value>>\",\n",
    "        \"features\": \"<<value>>\",\n",
    "        \"sizes\": \"<<value>>\",\n",
    "        \"price\": \"<<value>>\",\n",
    "        \"notes\": \"<<value>>\",\n",
    "        \"source\": \"<<value>>\",\n",
    "        \"images\" : \"<<value>>\"\n",
    "    }\n",
    "\n",
    "    system = \"\"\"You are a helpful assistant in {domain} domain. \n",
    "    You are here to help users find products for their requirements from a given list of products.\n",
    "    #####\n",
    "    Here is the context: {context}\n",
    "    #####\n",
    "    You return the output in JSON format that has all elements as present in {output_json}. If there is no value in any of the fields, leave it blank.\n",
    "    \"\"\"\n",
    "\n",
    "    human = \"{query}\"\n",
    "\n",
    "    prompt = ChatPromptTemplate.from_messages([(\"system\", system), (\"human\", human)])\n",
    "\n",
    "    chat = create_chat_client()\n",
    "\n",
    "    chain = prompt | chat\n",
    "    response = chain.invoke(\n",
    "        {\n",
    "            \"context\" : results,  \n",
    "            \"domain\" : config['domain'], \n",
    "            \"query\": query,\n",
    "            \"output_json\" : output_json\n",
    "        }\n",
    "    )\n",
    "    return response.content"
   ]
  },
  {
   "cell_type": "code",
   "execution_count": 8,
   "id": "9e890ce3",
   "metadata": {},
   "outputs": [
    {
     "name": "stderr",
     "output_type": "stream",
     "text": [
      "Batches: 100%|██████████| 1/1 [00:00<00:00,  1.02it/s]\n"
     ]
    }
   ],
   "source": [
    "if __name__ == \"__main__\":\n",
    "    chunked_data = []\n",
    "    folder_path = Path(config['data_path'])\n",
    "\n",
    "    # Step 1: Generate chunks from the dataset \n",
    "    if config['refresh_vector_store'] == 'Y':\n",
    "        chunked_data = get_data_chunks(folder_path)\n",
    "    \n",
    "    # Step 2: Create embeddings and put them into a vector store\n",
    "    embedding_model = get_embeddings_model()\n",
    "    create_vector_store(chunked_data, embedding_model)\n",
    "    vector_store = FAISS.load_local(config['vector_store_name'], embedding_model, allow_dangerous_deserialization=True)\n",
    "\n",
    "    # Step 3: Initiate LLM for conversation with user\n",
    "    \n",
    "    \n",
    "    # get_cross_encoder_score(query, results)"
   ]
  },
  {
   "cell_type": "code",
   "execution_count": 16,
   "id": "98954b82",
   "metadata": {},
   "outputs": [
    {
     "name": "stderr",
     "output_type": "stream",
     "text": [
      "Batches: 100%|██████████| 1/1 [00:00<00:00, 11.35it/s]"
     ]
    },
    {
     "name": "stdout",
     "output_type": "stream",
     "text": [
      "CPU times: user 6.56 ms, sys: 52.5 ms, total: 59.1 ms\n",
      "Wall time: 91.4 ms\n"
     ]
    },
    {
     "name": "stderr",
     "output_type": "stream",
     "text": [
      "\n"
     ]
    }
   ],
   "source": [
    "%%time \n",
    "\n",
    "query = \"van heusen formal shirts\"\n",
    "results = vector_store.similarity_search(query, k=20)\n",
    "# print(get_llm_response(query, results, config['domain']))"
   ]
  },
  {
   "cell_type": "code",
   "execution_count": 10,
   "id": "8ce88ac9",
   "metadata": {},
   "outputs": [
    {
     "data": {
      "text/plain": [
       "[Document(id='fb171b5f-60f1-414f-ba7d-809e9f60da55', metadata={'source': '/Users/RajivGaba/aiml_projects/Semantic Spotter/Data/Myntra-Ecommerce__20231101_20231130_sample.csv', 'row': 6}, page_content='Uniq Id: 06bd6038b28cee422d1aaeda647e6fe8\\nCrawl Timestamp: 2023-11-02 08:24:48 +0000\\nPageurl: https://www.myntra.com/13619958\\nPdp Url: https://www.myntra.com/13619958\\nProduct Id: 13619958\\nProduct Name: Arrow Men White & Black Checked Formal Shirt\\nList Price: 2399\\nSale Price: 2399\\nDiscount Percentage: 0.0\\nBrand: Arrow\\nProduct Rank: NA\\nSize: 38\\nAvailability: No\\nProduct Description: White checked formal shirt, has a spread collar, button placket, and curved hem\\nSeller: \\nCategory Url: https://www.myntra.com/shirts\\nInput Seed Url: https://www.myntra.com/13619958\\nColor: White\\nAverage Rating: 0.0\\nTotal Number Of Ratings: 0\\nType: \\nSleeve: \\nFit: Regular Fit\\nFabric Or Material: Cotton\\nNeck: \\nPattern: Checked\\nFabric Care: \\nClosure: \\nSuitable For: \\nCollar: \\nIdeal For: \\nRise Style: \\nLeg Style: \\nOcassion: \\nLength: Regular\\nSleeve Length: Long Sleeves\\nSleeve Type: Regular Sleeves\\nWash Care: Machine Wash\\nDarts: \\nStar1 Count: 0\\nStar2 Count: 0\\nStar3 Count: 0\\nStar4 Count: 0\\nStar5 Count: 0\\nGender: Men'),\n",
       " Document(id='514501af-0fca-4250-b645-fb02e0b2a540', metadata={'source': '/Users/RajivGaba/aiml_projects/Semantic Spotter/Data/Myntra-Ecommerce__20231101_20231130_sample.csv', 'row': 9}, page_content='Uniq Id: a746a9c22d604879155ccecc92347138\\nCrawl Timestamp: 2023-11-02 08:24:48 +0000\\nPageurl: https://www.myntra.com/13619958\\nPdp Url: https://www.myntra.com/13619958\\nProduct Id: 13619958\\nProduct Name: Arrow Men White & Black Checked Formal Shirt\\nList Price: 2399\\nSale Price: 2399\\nDiscount Percentage: 0.0\\nBrand: Arrow\\nProduct Rank: NA\\nSize: 42\\nAvailability: No\\nProduct Description: White checked formal shirt, has a spread collar, button placket, and curved hem\\nSeller: \\nCategory Url: https://www.myntra.com/shirts\\nInput Seed Url: https://www.myntra.com/13619958\\nColor: White\\nAverage Rating: 0.0\\nTotal Number Of Ratings: 0\\nType: \\nSleeve: \\nFit: Regular Fit\\nFabric Or Material: Cotton\\nNeck: \\nPattern: Checked\\nFabric Care: \\nClosure: \\nSuitable For: \\nCollar: \\nIdeal For: \\nRise Style: \\nLeg Style: \\nOcassion: \\nLength: Regular\\nSleeve Length: Long Sleeves\\nSleeve Type: Regular Sleeves\\nWash Care: Machine Wash\\nDarts: \\nStar1 Count: 0\\nStar2 Count: 0\\nStar3 Count: 0\\nStar4 Count: 0\\nStar5 Count: 0\\nGender: Men'),\n",
       " Document(id='c15f9c29-4fef-47a9-ac88-3490473b1840', metadata={'source': '/Users/RajivGaba/aiml_projects/Semantic Spotter/Data/Myntra-Ecommerce__20231101_20231130_sample.csv', 'row': 7}, page_content='Uniq Id: 5c05ebe26f424c64a979d2a109873c5d\\nCrawl Timestamp: 2023-11-02 08:24:48 +0000\\nPageurl: https://www.myntra.com/13619958\\nPdp Url: https://www.myntra.com/13619958\\nProduct Id: 13619958\\nProduct Name: Arrow Men White & Black Checked Formal Shirt\\nList Price: 2399\\nSale Price: 2399\\nDiscount Percentage: 0.0\\nBrand: Arrow\\nProduct Rank: NA\\nSize: 39\\nAvailability: No\\nProduct Description: White checked formal shirt, has a spread collar, button placket, and curved hem\\nSeller: \\nCategory Url: https://www.myntra.com/shirts\\nInput Seed Url: https://www.myntra.com/13619958\\nColor: White\\nAverage Rating: 0.0\\nTotal Number Of Ratings: 0\\nType: \\nSleeve: \\nFit: Regular Fit\\nFabric Or Material: Cotton\\nNeck: \\nPattern: Checked\\nFabric Care: \\nClosure: \\nSuitable For: \\nCollar: \\nIdeal For: \\nRise Style: \\nLeg Style: \\nOcassion: \\nLength: Regular\\nSleeve Length: Long Sleeves\\nSleeve Type: Regular Sleeves\\nWash Care: Machine Wash\\nDarts: \\nStar1 Count: 0\\nStar2 Count: 0\\nStar3 Count: 0\\nStar4 Count: 0\\nStar5 Count: 0\\nGender: Men'),\n",
       " Document(id='317a72bc-7211-48f3-974e-12b8cb6273fa', metadata={'source': '/Users/RajivGaba/aiml_projects/Semantic Spotter/Data/Myntra-Ecommerce__20231101_20231130_sample.csv', 'row': 0}, page_content='Neck: \\nPattern: Solid\\nFabric Care: \\nClosure: \\nSuitable For: \\nCollar: \\nIdeal For: \\nRise Style: \\nLeg Style: \\nOcassion: \\nLength: Regular\\nSleeve Length: Short Sleeves\\nSleeve Type: Regular Sleeves\\nWash Care: Machine Wash\\nDarts: \\nStar1 Count: 2\\nStar2 Count: 1\\nStar3 Count: 0\\nStar4 Count: 0\\nStar5 Count: 7\\nGender: Men\\nFulfilled By: \\nBest Seller Rank 1: \\nBest Seller Rank 2: \\nDate First Available: \\nSub Category 1: Clothing\\nSub Category 2: Men\\nSub Category 3: Shirts\\nSub Category 4: U.S. Polo Assn.\\nSub Category 5: More by U.S. Polo Assn.\\nImage 1: http://assets.myntassets.com/assets/images/19167196/2022/12/7/f89fa144-6320-4154-94eb-0c84c1151efa1670394020027-U-S-Polo-Assn-Men-Navy-Blue-Solid-Tailored-Fit-Pure-Cotton-C-1.jpg\\nImage 2: http://assets.myntassets.com/assets/images/19167196/2022/12/7/b2e92ee6-489d-410c-a1f4-733329add4d71670394020002-U-S-Polo-Assn-Men-Navy-Blue-Solid-Tailored-Fit-Pure-Cotton-C-2.jpg'),\n",
       " Document(id='b55e6403-a663-42fa-9cd7-b6e4da2989d0', metadata={'source': '/Users/RajivGaba/aiml_projects/Semantic Spotter/Data/Myntra-Ecommerce__20231101_20231130_sample.csv', 'row': 3}, page_content='Neck: \\nPattern: Solid\\nFabric Care: \\nClosure: \\nSuitable For: \\nCollar: \\nIdeal For: \\nRise Style: \\nLeg Style: \\nOcassion: \\nLength: Regular\\nSleeve Length: Short Sleeves\\nSleeve Type: Regular Sleeves\\nWash Care: Machine Wash\\nDarts: \\nStar1 Count: 2\\nStar2 Count: 1\\nStar3 Count: 0\\nStar4 Count: 0\\nStar5 Count: 7\\nGender: Men\\nFulfilled By: \\nBest Seller Rank 1: \\nBest Seller Rank 2: \\nDate First Available: \\nSub Category 1: Clothing\\nSub Category 2: Men\\nSub Category 3: Shirts\\nSub Category 4: U.S. Polo Assn.\\nSub Category 5: More by U.S. Polo Assn.\\nImage 1: http://assets.myntassets.com/assets/images/19167196/2022/12/7/f89fa144-6320-4154-94eb-0c84c1151efa1670394020027-U-S-Polo-Assn-Men-Navy-Blue-Solid-Tailored-Fit-Pure-Cotton-C-1.jpg\\nImage 2: http://assets.myntassets.com/assets/images/19167196/2022/12/7/b2e92ee6-489d-410c-a1f4-733329add4d71670394020002-U-S-Polo-Assn-Men-Navy-Blue-Solid-Tailored-Fit-Pure-Cotton-C-2.jpg'),\n",
       " Document(id='2e1eb83b-896f-48c4-a318-52054e08a18b', metadata={'source': '/Users/RajivGaba/aiml_projects/Semantic Spotter/Data/Myntra-Ecommerce__20231101_20231130_sample.csv', 'row': 4}, page_content='Neck: \\nPattern: Solid\\nFabric Care: \\nClosure: \\nSuitable For: \\nCollar: \\nIdeal For: \\nRise Style: \\nLeg Style: \\nOcassion: \\nLength: Regular\\nSleeve Length: Short Sleeves\\nSleeve Type: Regular Sleeves\\nWash Care: Machine Wash\\nDarts: \\nStar1 Count: 2\\nStar2 Count: 1\\nStar3 Count: 0\\nStar4 Count: 0\\nStar5 Count: 7\\nGender: Men\\nFulfilled By: \\nBest Seller Rank 1: \\nBest Seller Rank 2: \\nDate First Available: \\nSub Category 1: Clothing\\nSub Category 2: Men\\nSub Category 3: Shirts\\nSub Category 4: U.S. Polo Assn.\\nSub Category 5: More by U.S. Polo Assn.\\nImage 1: http://assets.myntassets.com/assets/images/19167196/2022/12/7/f89fa144-6320-4154-94eb-0c84c1151efa1670394020027-U-S-Polo-Assn-Men-Navy-Blue-Solid-Tailored-Fit-Pure-Cotton-C-1.jpg\\nImage 2: http://assets.myntassets.com/assets/images/19167196/2022/12/7/b2e92ee6-489d-410c-a1f4-733329add4d71670394020002-U-S-Polo-Assn-Men-Navy-Blue-Solid-Tailored-Fit-Pure-Cotton-C-2.jpg'),\n",
       " Document(id='c15f6768-7a52-4191-b81f-14d17ea45892', metadata={'source': '/Users/RajivGaba/aiml_projects/Semantic Spotter/Data/Myntra-Ecommerce__20231101_20231130_sample.csv', 'row': 5}, page_content='Neck: \\nPattern: Solid\\nFabric Care: \\nClosure: \\nSuitable For: \\nCollar: \\nIdeal For: \\nRise Style: \\nLeg Style: \\nOcassion: \\nLength: Regular\\nSleeve Length: Short Sleeves\\nSleeve Type: Regular Sleeves\\nWash Care: Machine Wash\\nDarts: \\nStar1 Count: 2\\nStar2 Count: 1\\nStar3 Count: 0\\nStar4 Count: 0\\nStar5 Count: 7\\nGender: Men\\nFulfilled By: \\nBest Seller Rank 1: \\nBest Seller Rank 2: \\nDate First Available: \\nSub Category 1: Clothing\\nSub Category 2: Men\\nSub Category 3: Shirts\\nSub Category 4: U.S. Polo Assn.\\nSub Category 5: More by U.S. Polo Assn.\\nImage 1: http://assets.myntassets.com/assets/images/19167196/2022/12/7/f89fa144-6320-4154-94eb-0c84c1151efa1670394020027-U-S-Polo-Assn-Men-Navy-Blue-Solid-Tailored-Fit-Pure-Cotton-C-1.jpg\\nImage 2: http://assets.myntassets.com/assets/images/19167196/2022/12/7/b2e92ee6-489d-410c-a1f4-733329add4d71670394020002-U-S-Polo-Assn-Men-Navy-Blue-Solid-Tailored-Fit-Pure-Cotton-C-2.jpg'),\n",
       " Document(id='a037ae85-fdbe-4c29-84d8-4cbb64bb13f0', metadata={'source': '/Users/RajivGaba/aiml_projects/Semantic Spotter/Data/Myntra-Ecommerce__20231101_20231130_sample.csv', 'row': 8}, page_content='Uniq Id: 5b6ca4e874ce5041b6223d4e0c8067c5\\nCrawl Timestamp: 2023-11-02 08:24:48 +0000\\nPageurl: https://www.myntra.com/13619958\\nPdp Url: https://www.myntra.com/13619958\\nProduct Id: 13619958\\nProduct Name: Arrow Men White & Black Checked Formal Shirt\\nList Price: 2399\\nSale Price: 2399\\nDiscount Percentage: 0.0\\nBrand: Arrow\\nProduct Rank: NA\\nSize: 40\\nAvailability: No\\nProduct Description: White checked formal shirt, has a spread collar, button placket, and curved hem\\nSeller: \\nCategory Url: https://www.myntra.com/shirts\\nInput Seed Url: https://www.myntra.com/13619958\\nColor: White\\nAverage Rating: 0.0\\nTotal Number Of Ratings: 0\\nType: \\nSleeve: \\nFit: Regular Fit\\nFabric Or Material: Cotton\\nNeck: \\nPattern: Checked\\nFabric Care: \\nClosure: \\nSuitable For: \\nCollar: \\nIdeal For: \\nRise Style: \\nLeg Style: \\nOcassion: \\nLength: Regular\\nSleeve Length: Long Sleeves\\nSleeve Type: Regular Sleeves\\nWash Care: Machine Wash\\nDarts: \\nStar1 Count: 0\\nStar2 Count: 0\\nStar3 Count: 0\\nStar4 Count: 0\\nStar5 Count: 0\\nGender: Men'),\n",
       " Document(id='2f7307d3-3d92-4ab9-874c-365624fce460', metadata={'source': '/Users/RajivGaba/aiml_projects/Semantic Spotter/Data/Myntra-Ecommerce__20231101_20231130_sample.csv', 'row': 1}, page_content='Fabric Care: \\nClosure: \\nSuitable For: \\nCollar: \\nIdeal For: \\nRise Style: \\nLeg Style: \\nOcassion: \\nLength: Regular\\nSleeve Length: Short Sleeves\\nSleeve Type: Regular Sleeves\\nWash Care: Machine Wash\\nDarts: \\nStar1 Count: 2\\nStar2 Count: 1\\nStar3 Count: 0\\nStar4 Count: 0\\nStar5 Count: 7\\nGender: Men\\nFulfilled By: \\nBest Seller Rank 1: \\nBest Seller Rank 2: \\nDate First Available: \\nSub Category 1: Clothing\\nSub Category 2: Men\\nSub Category 3: Shirts\\nSub Category 4: U.S. Polo Assn.\\nSub Category 5: More by U.S. Polo Assn.\\nImage 1: http://assets.myntassets.com/assets/images/19167196/2022/12/7/f89fa144-6320-4154-94eb-0c84c1151efa1670394020027-U-S-Polo-Assn-Men-Navy-Blue-Solid-Tailored-Fit-Pure-Cotton-C-1.jpg\\nImage 2: http://assets.myntassets.com/assets/images/19167196/2022/12/7/b2e92ee6-489d-410c-a1f4-733329add4d71670394020002-U-S-Polo-Assn-Men-Navy-Blue-Solid-Tailored-Fit-Pure-Cotton-C-2.jpg'),\n",
       " Document(id='ced6adec-9f7f-48ec-8135-0b88608a57a0', metadata={'source': '/Users/RajivGaba/aiml_projects/Semantic Spotter/Data/Myntra-Ecommerce__20231101_20231130_sample.csv', 'row': 5}, page_content='Uniq Id: 56612244b2d28c1ec1b70445bb432d42\\nCrawl Timestamp: 2023-11-02 08:31:30 +0000\\nPageurl: https://www.myntra.com/19167196\\nPdp Url: https://www.myntra.com/19167196\\nProduct Id: 19167196\\nProduct Name: U S Polo Assn Men Navy Blue Solid Tailored Fit Pure Cotton Casual Shirt\\nList Price: 2899\\nSale Price: 1478\\nDiscount Percentage: 49.0\\nBrand: U.S. Polo Assn.\\nProduct Rank: NA\\nSize: 46\\nAvailability: No\\nProduct Description: Navy blue solid Casual shirt ,has a spread collar, button placket, 1 patch pocket, short regular sleeves, curved hem\\nSeller: ARVIND LIFESTYLE BRANDS LIMITED\\nCategory Url: https://www.myntra.com/shirts\\nInput Seed Url: https://www.myntra.com/19167196\\nColor: Navy Blue\\nAverage Rating: 3.9\\nTotal Number Of Ratings: 10\\nType: \\nSleeve: \\nFit: Tailored Fit\\nFabric Or Material: Cotton\\nNeck: \\nPattern: Solid\\nFabric Care: \\nClosure: \\nSuitable For: \\nCollar: \\nIdeal For: \\nRise Style: \\nLeg Style: \\nOcassion: \\nLength: Regular\\nSleeve Length: Short Sleeves\\nSleeve Type: Regular Sleeves'),\n",
       " Document(id='b275f89d-0c33-41b8-9f89-1e06579d06d7', metadata={'source': '/Users/RajivGaba/aiml_projects/Semantic Spotter/Data/Myntra-Ecommerce__20231101_20231130_sample.csv', 'row': 4}, page_content='Uniq Id: a05499ab8ce9d33f3b25a1edc55a53be\\nCrawl Timestamp: 2023-11-02 08:31:30 +0000\\nPageurl: https://www.myntra.com/19167196\\nPdp Url: https://www.myntra.com/19167196\\nProduct Id: 19167196\\nProduct Name: U S Polo Assn Men Navy Blue Solid Tailored Fit Pure Cotton Casual Shirt\\nList Price: 2899\\nSale Price: 1478\\nDiscount Percentage: 49.0\\nBrand: U.S. Polo Assn.\\nProduct Rank: NA\\nSize: 44\\nAvailability: No\\nProduct Description: Navy blue solid Casual shirt ,has a spread collar, button placket, 1 patch pocket, short regular sleeves, curved hem\\nSeller: ARVIND LIFESTYLE BRANDS LIMITED\\nCategory Url: https://www.myntra.com/shirts\\nInput Seed Url: https://www.myntra.com/19167196\\nColor: Navy Blue\\nAverage Rating: 3.9\\nTotal Number Of Ratings: 10\\nType: \\nSleeve: \\nFit: Tailored Fit\\nFabric Or Material: Cotton\\nNeck: \\nPattern: Solid\\nFabric Care: \\nClosure: \\nSuitable For: \\nCollar: \\nIdeal For: \\nRise Style: \\nLeg Style: \\nOcassion: \\nLength: Regular\\nSleeve Length: Short Sleeves\\nSleeve Type: Regular Sleeves'),\n",
       " Document(id='1d949ea2-e555-487b-9c88-b65dc0e5e4f8', metadata={'source': '/Users/RajivGaba/aiml_projects/Semantic Spotter/Data/Myntra-Ecommerce__20231101_20231130_sample.csv', 'row': 0}, page_content='Uniq Id: c315ff702740aac2a3f26d5f76ddf93d\\nCrawl Timestamp: 2023-11-02 08:31:30 +0000\\nPageurl: https://www.myntra.com/19167196\\nPdp Url: https://www.myntra.com/19167196\\nProduct Id: 19167196\\nProduct Name: U S Polo Assn Men Navy Blue Solid Tailored Fit Pure Cotton Casual Shirt\\nList Price: 2899\\nSale Price: 1478\\nDiscount Percentage: 49.0\\nBrand: U.S. Polo Assn.\\nProduct Rank: NA\\nSize: 38\\nAvailability: Yes\\nProduct Description: Navy blue solid Casual shirt ,has a spread collar, button placket, 1 patch pocket, short regular sleeves, curved hem\\nSeller: ARVIND LIFESTYLE BRANDS LIMITED\\nCategory Url: https://www.myntra.com/shirts\\nInput Seed Url: https://www.myntra.com/19167196\\nColor: Navy Blue\\nAverage Rating: 3.9\\nTotal Number Of Ratings: 10\\nType: \\nSleeve: \\nFit: Tailored Fit\\nFabric Or Material: Cotton\\nNeck: \\nPattern: Solid\\nFabric Care: \\nClosure: \\nSuitable For: \\nCollar: \\nIdeal For: \\nRise Style: \\nLeg Style: \\nOcassion: \\nLength: Regular\\nSleeve Length: Short Sleeves\\nSleeve Type: Regular Sleeves'),\n",
       " Document(id='94a2a86e-7cbc-44f7-ae7b-71b730452a5c', metadata={'source': '/Users/RajivGaba/aiml_projects/Semantic Spotter/Data/Myntra-Ecommerce__20231101_20231130_sample.csv', 'row': 3}, page_content='Uniq Id: 2be7050cb44ce25ec8b657a3d62db17a\\nCrawl Timestamp: 2023-11-02 08:31:30 +0000\\nPageurl: https://www.myntra.com/19167196\\nPdp Url: https://www.myntra.com/19167196\\nProduct Id: 19167196\\nProduct Name: U S Polo Assn Men Navy Blue Solid Tailored Fit Pure Cotton Casual Shirt\\nList Price: 2899\\nSale Price: 1478\\nDiscount Percentage: 49.0\\nBrand: U.S. Polo Assn.\\nProduct Rank: NA\\nSize: 42\\nAvailability: Yes\\nProduct Description: Navy blue solid Casual shirt ,has a spread collar, button placket, 1 patch pocket, short regular sleeves, curved hem\\nSeller: ARVIND LIFESTYLE BRANDS LIMITED\\nCategory Url: https://www.myntra.com/shirts\\nInput Seed Url: https://www.myntra.com/19167196\\nColor: Navy Blue\\nAverage Rating: 3.9\\nTotal Number Of Ratings: 10\\nType: \\nSleeve: \\nFit: Tailored Fit\\nFabric Or Material: Cotton\\nNeck: \\nPattern: Solid\\nFabric Care: \\nClosure: \\nSuitable For: \\nCollar: \\nIdeal For: \\nRise Style: \\nLeg Style: \\nOcassion: \\nLength: Regular\\nSleeve Length: Short Sleeves\\nSleeve Type: Regular Sleeves'),\n",
       " Document(id='cfa06a56-a8e3-431f-99ca-395f4b16dcab', metadata={'source': '/Users/RajivGaba/aiml_projects/Semantic Spotter/Data/Myntra-Ecommerce__20231101_20231130_sample.csv', 'row': 2}, page_content='Uniq Id: ad4a4a92cfc18ecdef6d232cc0a80acb\\nCrawl Timestamp: 2023-11-02 08:31:30 +0000\\nPageurl: https://www.myntra.com/19167196\\nPdp Url: https://www.myntra.com/19167196\\nProduct Id: 19167196\\nProduct Name: U S Polo Assn Men Navy Blue Solid Tailored Fit Pure Cotton Casual Shirt\\nList Price: 2899\\nSale Price: 1594\\nDiscount Percentage: 45.0\\nBrand: U.S. Polo Assn.\\nProduct Rank: NA\\nSize: 40\\nAvailability: No\\nProduct Description: Navy blue solid Casual shirt ,has a spread collar, button placket, 1 patch pocket, short regular sleeves, curved hem\\nSeller: Supercom Net\\nCategory Url: https://www.myntra.com/shirts\\nInput Seed Url: https://www.myntra.com/19167196\\nColor: Navy Blue\\nAverage Rating: 3.9\\nTotal Number Of Ratings: 10\\nType: \\nSleeve: \\nFit: Tailored Fit\\nFabric Or Material: Cotton\\nNeck: \\nPattern: Solid\\nFabric Care: \\nClosure: \\nSuitable For: \\nCollar: \\nIdeal For: \\nRise Style: \\nLeg Style: \\nOcassion: \\nLength: Regular\\nSleeve Length: Short Sleeves\\nSleeve Type: Regular Sleeves\\nWash Care: Machine Wash\\nDarts:'),\n",
       " Document(id='764bfdcc-9084-45a9-b3f6-92ac013c548d', metadata={'source': '/Users/RajivGaba/aiml_projects/Semantic Spotter/Data/Myntra-Ecommerce__20231101_20231130_sample.csv', 'row': 2}, page_content='Closure: \\nSuitable For: \\nCollar: \\nIdeal For: \\nRise Style: \\nLeg Style: \\nOcassion: \\nLength: Regular\\nSleeve Length: Short Sleeves\\nSleeve Type: Regular Sleeves\\nWash Care: Machine Wash\\nDarts: \\nStar1 Count: 2\\nStar2 Count: 1\\nStar3 Count: 0\\nStar4 Count: 0\\nStar5 Count: 7\\nGender: Men\\nFulfilled By: \\nBest Seller Rank 1: \\nBest Seller Rank 2: \\nDate First Available: \\nSub Category 1: Clothing\\nSub Category 2: Men\\nSub Category 3: Shirts\\nSub Category 4: U.S. Polo Assn.\\nSub Category 5: More by U.S. Polo Assn.\\nImage 1: http://assets.myntassets.com/assets/images/19167196/2022/12/7/f89fa144-6320-4154-94eb-0c84c1151efa1670394020027-U-S-Polo-Assn-Men-Navy-Blue-Solid-Tailored-Fit-Pure-Cotton-C-1.jpg\\nImage 2: http://assets.myntassets.com/assets/images/19167196/2022/12/7/b2e92ee6-489d-410c-a1f4-733329add4d71670394020002-U-S-Polo-Assn-Men-Navy-Blue-Solid-Tailored-Fit-Pure-Cotton-C-2.jpg'),\n",
       " Document(id='eb8a7c65-dc2a-4434-a1bc-26e64d4dd439', metadata={'source': '/Users/RajivGaba/aiml_projects/Semantic Spotter/Data/Myntra-Ecommerce__20231101_20231130_sample.csv', 'row': 6}, page_content='Length: Regular\\nSleeve Length: Long Sleeves\\nSleeve Type: Regular Sleeves\\nWash Care: Machine Wash\\nDarts: \\nStar1 Count: 0\\nStar2 Count: 0\\nStar3 Count: 0\\nStar4 Count: 0\\nStar5 Count: 0\\nGender: Men\\nFulfilled By: \\nBest Seller Rank 1: \\nBest Seller Rank 2: \\nDate First Available: \\nSub Category 1: Clothing\\nSub Category 2: Men\\nSub Category 3: Shirts\\nSub Category 4: Arrow\\nSub Category 5: More by Arrow\\nImage 1: http://assets.myntassets.com/assets/images/productimage/2021/2/9/36e0ba42-e45c-4fb4-8ab8-193e1bb444021612857623859-1.jpg\\nImage 2: http://assets.myntassets.com/assets/images/productimage/2021/2/9/f4e66868-0951-4661-aec1-d32228895d491612857623883-2.jpg\\nImage 3: http://assets.myntassets.com/assets/images/productimage/2021/2/9/72449bea-4951-4973-a82b-4e2093bb173a1612857623904-3.jpg\\nBilling Id: 9049551be4442bf78b3de97d16cf9ff0\\nVariant: parent'),\n",
       " Document(id='7e0ec97e-24df-40a5-b7fc-c1c393fec953', metadata={'source': '/Users/RajivGaba/aiml_projects/Semantic Spotter/Data/Myntra-Ecommerce__20231101_20231130_sample.csv', 'row': 7}, page_content='Length: Regular\\nSleeve Length: Long Sleeves\\nSleeve Type: Regular Sleeves\\nWash Care: Machine Wash\\nDarts: \\nStar1 Count: 0\\nStar2 Count: 0\\nStar3 Count: 0\\nStar4 Count: 0\\nStar5 Count: 0\\nGender: Men\\nFulfilled By: \\nBest Seller Rank 1: \\nBest Seller Rank 2: \\nDate First Available: \\nSub Category 1: Clothing\\nSub Category 2: Men\\nSub Category 3: Shirts\\nSub Category 4: Arrow\\nSub Category 5: More by Arrow\\nImage 1: http://assets.myntassets.com/assets/images/productimage/2021/2/9/36e0ba42-e45c-4fb4-8ab8-193e1bb444021612857623859-1.jpg\\nImage 2: http://assets.myntassets.com/assets/images/productimage/2021/2/9/f4e66868-0951-4661-aec1-d32228895d491612857623883-2.jpg\\nImage 3: http://assets.myntassets.com/assets/images/productimage/2021/2/9/72449bea-4951-4973-a82b-4e2093bb173a1612857623904-3.jpg\\nBilling Id: 9049551be4442bf78b3de97d16cf9ff0\\nVariant: child'),\n",
       " Document(id='35cd172a-5ab9-4d3b-b61c-b804b9258da9', metadata={'source': '/Users/RajivGaba/aiml_projects/Semantic Spotter/Data/Myntra-Ecommerce__20231101_20231130_sample.csv', 'row': 8}, page_content='Length: Regular\\nSleeve Length: Long Sleeves\\nSleeve Type: Regular Sleeves\\nWash Care: Machine Wash\\nDarts: \\nStar1 Count: 0\\nStar2 Count: 0\\nStar3 Count: 0\\nStar4 Count: 0\\nStar5 Count: 0\\nGender: Men\\nFulfilled By: \\nBest Seller Rank 1: \\nBest Seller Rank 2: \\nDate First Available: \\nSub Category 1: Clothing\\nSub Category 2: Men\\nSub Category 3: Shirts\\nSub Category 4: Arrow\\nSub Category 5: More by Arrow\\nImage 1: http://assets.myntassets.com/assets/images/productimage/2021/2/9/36e0ba42-e45c-4fb4-8ab8-193e1bb444021612857623859-1.jpg\\nImage 2: http://assets.myntassets.com/assets/images/productimage/2021/2/9/f4e66868-0951-4661-aec1-d32228895d491612857623883-2.jpg\\nImage 3: http://assets.myntassets.com/assets/images/productimage/2021/2/9/72449bea-4951-4973-a82b-4e2093bb173a1612857623904-3.jpg\\nBilling Id: 9049551be4442bf78b3de97d16cf9ff0\\nVariant: child'),\n",
       " Document(id='fda37fd7-9339-4308-bd3d-f00d3eb5dbff', metadata={'source': '/Users/RajivGaba/aiml_projects/Semantic Spotter/Data/Myntra-Ecommerce__20231101_20231130_sample.csv', 'row': 9}, page_content='Length: Regular\\nSleeve Length: Long Sleeves\\nSleeve Type: Regular Sleeves\\nWash Care: Machine Wash\\nDarts: \\nStar1 Count: 0\\nStar2 Count: 0\\nStar3 Count: 0\\nStar4 Count: 0\\nStar5 Count: 0\\nGender: Men\\nFulfilled By: \\nBest Seller Rank 1: \\nBest Seller Rank 2: \\nDate First Available: \\nSub Category 1: Clothing\\nSub Category 2: Men\\nSub Category 3: Shirts\\nSub Category 4: Arrow\\nSub Category 5: More by Arrow\\nImage 1: http://assets.myntassets.com/assets/images/productimage/2021/2/9/36e0ba42-e45c-4fb4-8ab8-193e1bb444021612857623859-1.jpg\\nImage 2: http://assets.myntassets.com/assets/images/productimage/2021/2/9/f4e66868-0951-4661-aec1-d32228895d491612857623883-2.jpg\\nImage 3: http://assets.myntassets.com/assets/images/productimage/2021/2/9/72449bea-4951-4973-a82b-4e2093bb173a1612857623904-3.jpg\\nBilling Id: 9049551be4442bf78b3de97d16cf9ff0\\nVariant: child'),\n",
       " Document(id='d73aab7e-cafd-43be-9fd1-b4d13a60d3c2', metadata={'source': '/Users/RajivGaba/aiml_projects/Semantic Spotter/Data/Myntra-Ecommerce__20231101_20231130_sample.csv', 'row': 1}, page_content='Uniq Id: fb827257ccc247b81dc83372c3795698\\nCrawl Timestamp: 2023-11-02 08:31:30 +0000\\nPageurl: https://www.myntra.com/19167196\\nPdp Url: https://www.myntra.com/19167196\\nProduct Id: 19167196\\nProduct Name: U S Polo Assn Men Navy Blue Solid Tailored Fit Pure Cotton Casual Shirt\\nList Price: 2899\\nSale Price: 1594\\nDiscount Percentage: 45.0\\nBrand: U.S. Polo Assn.\\nProduct Rank: NA\\nSize: 38\\nAvailability: Yes\\nProduct Description: Navy blue solid Casual shirt ,has a spread collar, button placket, 1 patch pocket, short regular sleeves, curved hem\\nSeller: Supercom Net\\nCategory Url: https://www.myntra.com/shirts\\nInput Seed Url: https://www.myntra.com/19167196\\nColor: Navy Blue\\nAverage Rating: 3.9\\nTotal Number Of Ratings: 10\\nType: \\nSleeve: \\nFit: Tailored Fit\\nFabric Or Material: Cotton\\nNeck: \\nPattern: Solid\\nFabric Care: \\nClosure: \\nSuitable For: \\nCollar: \\nIdeal For: \\nRise Style: \\nLeg Style: \\nOcassion: \\nLength: Regular\\nSleeve Length: Short Sleeves\\nSleeve Type: Regular Sleeves\\nWash Care: Machine Wash')]"
      ]
     },
     "execution_count": 10,
     "metadata": {},
     "output_type": "execute_result"
    }
   ],
   "source": [
    "results"
   ]
  },
  {
   "cell_type": "code",
   "execution_count": 17,
   "id": "f8e41970",
   "metadata": {},
   "outputs": [
    {
     "name": "stderr",
     "output_type": "stream",
     "text": [
      "Batches: 100%|██████████| 1/1 [00:00<00:00,  7.45it/s]"
     ]
    },
    {
     "name": "stdout",
     "output_type": "stream",
     "text": [
      "CPU times: user 8.77 ms, sys: 58.4 ms, total: 67.1 ms\n",
      "Wall time: 142 ms\n"
     ]
    },
    {
     "name": "stderr",
     "output_type": "stream",
     "text": [
      "\n"
     ]
    }
   ],
   "source": [
    "%%time \n",
    "\n",
    "retriever = vector_store.as_retriever(search_type=\"mmr\", search_kwargs={\"k\": 10})\n",
    "results = retriever.invoke(query)"
   ]
  },
  {
   "cell_type": "code",
   "execution_count": null,
   "id": "f2b7c39d",
   "metadata": {},
   "outputs": [],
   "source": []
  }
 ],
 "metadata": {
  "kernelspec": {
   "display_name": ".venv",
   "language": "python",
   "name": "python3"
  },
  "language_info": {
   "codemirror_mode": {
    "name": "ipython",
    "version": 3
   },
   "file_extension": ".py",
   "mimetype": "text/x-python",
   "name": "python",
   "nbconvert_exporter": "python",
   "pygments_lexer": "ipython3",
   "version": "3.13.5"
  }
 },
 "nbformat": 4,
 "nbformat_minor": 5
}
