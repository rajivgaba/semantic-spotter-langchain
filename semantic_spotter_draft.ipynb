{
  "cells": [
    {
      "cell_type": "markdown",
      "metadata": {
        "id": "view-in-github",
        "colab_type": "text"
      },
      "source": [
        "<a href=\"https://colab.research.google.com/github/rajivgaba/semantic-spotter-langchain/blob/main/semantic_spotter_draft.ipynb\" target=\"_parent\"><img src=\"https://colab.research.google.com/assets/colab-badge.svg\" alt=\"Open In Colab\"/></a>"
      ]
    },
    {
      "cell_type": "code",
      "source": [
        "# install required packages\n",
        "\n",
        "! pip install -qU langchain-community pymupdf\n",
        "! pip install -qU langchain_huggingface\n",
        "! pip install -qU sentence-transformers\n",
        "! pip install -qU \"langchain-perplexity\"\n",
        "! pip install -qU faiss-cpu"
      ],
      "metadata": {
        "id": "wcbgs9IRy-Su"
      },
      "id": "wcbgs9IRy-Su",
      "execution_count": null,
      "outputs": []
    },
    {
      "cell_type": "code",
      "source": [
        "# import libraries\n",
        "\n",
        "import os, glob\n",
        "from pathlib import Path\n",
        "from langchain_community.document_loaders import PyMuPDFLoader, CSVLoader, TextLoader\n",
        "from langchain.text_splitter import RecursiveCharacterTextSplitter\n",
        "from langchain_huggingface import HuggingFaceEmbeddings\n",
        "from langchain.vectorstores import FAISS\n",
        "from sentence_transformers import CrossEncoder, util\n",
        "from langchain_core.prompts import ChatPromptTemplate\n",
        "from langchain_perplexity import ChatPerplexity\n",
        "import gradio as gr\n",
        "import kaggle\n",
        "from kaggle.api.kaggle_api_extended import KaggleApi\n",
        "from google.colab import userdata"
      ],
      "metadata": {
        "id": "Cupxo0pnzDTM"
      },
      "id": "Cupxo0pnzDTM",
      "execution_count": null,
      "outputs": []
    },
    {
      "cell_type": "code",
      "source": [
        "# Set the key for LLM API\n",
        "\n",
        "os.environ['PREPLEXITY_API_KEY'] = userdata.get('PREPLEXITY_API_KEY')"
      ],
      "metadata": {
        "id": "LHhGzi_iyrb8"
      },
      "id": "LHhGzi_iyrb8",
      "execution_count": null,
      "outputs": []
    },
    {
      "cell_type": "code",
      "execution_count": null,
      "id": "c604d8a9",
      "metadata": {
        "id": "c604d8a9"
      },
      "outputs": [],
      "source": [
        "# Set base configuration values\n",
        "\n",
        "config = {\n",
        "    'data_path' : '/Users/RajivGaba/aiml_projects/Semantic Spotter/Data/',\n",
        "    'chunk_size' : 1000,\n",
        "    'chunk_overlap' : 200,\n",
        "    'vector_store_name' : \"faiss_index\",\n",
        "    'embedding_model' : 'all-MiniLM-L6-v2',\n",
        "    'refresh_vector_store' : 'Y',\n",
        "    'cross_encoder_model': 'cross-encoder/ms-marco-MiniLM-L-6-v2',\n",
        "    'PPLX_API_KEY' : os.getenv('PREPLEXITY_API_KEY'),\n",
        "    'domain' : 'fashion',\n",
        "    'chat_model' : \"sonar-pro\"\n",
        "}"
      ]
    },
    {
      "cell_type": "code",
      "execution_count": null,
      "id": "453649c6",
      "metadata": {
        "id": "453649c6"
      },
      "outputs": [],
      "source": [
        "# Download dataset from kaggle using kaggle API\n",
        "\n",
        "api = KaggleApi()\n",
        "api.authenticate()\n",
        "api.dataset_download_files('promptcloud/myntra-e-commerce-product-data-november-2023', path='./data/', unzip=True)"
      ]
    },
    {
      "cell_type": "code",
      "execution_count": null,
      "id": "de4751e1",
      "metadata": {
        "id": "de4751e1"
      },
      "outputs": [],
      "source": [
        "# Define reusable functions\n",
        "\n",
        "def get_data_chunks(folder_path):\n",
        "  \"\"\"\n",
        "  This function will create chunks from the files present in the dataset.\n",
        "  This takes directory where the files exists. Basis the type of file i.e.\n",
        "  PDF, CSV or text, a loader is initialised and chunks are created from\n",
        "  content of the data\n",
        "  \"\"\"\n",
        "  # loader = PyMuPDFLoader(pdf_file)\n",
        "  # documents = loader.load()\n",
        "\n",
        "  all_documents = []\n",
        "\n",
        "  # Loop through all files in the folder\n",
        "  for file_path in folder_path.iterdir():\n",
        "      if file_path.suffix.lower() == \".pdf\":\n",
        "          loader = PyMuPDFLoader(str(file_path))\n",
        "      elif file_path.suffix.lower() == \".csv\":\n",
        "          loader = CSVLoader(str(file_path))\n",
        "      elif file_path.suffix.lower() == \".txt\":\n",
        "          loader = TextLoader(str(file_path))\n",
        "      else:\n",
        "          continue  # Skip unsupported file types\n",
        "\n",
        "      # Load and append documents\n",
        "      documents = loader.load()\n",
        "      all_documents.extend(documents)\n",
        "\n",
        "  # chunking/splitting\n",
        "  text_splitter = RecursiveCharacterTextSplitter(\n",
        "      chunk_size=config['chunk_size'],\n",
        "      chunk_overlap=config['chunk_overlap']\n",
        "  )\n",
        "  text_chunks = text_splitter.split_documents(documents=all_documents)\n",
        "  return text_chunks\n",
        "\n",
        "def get_embeddings_model():\n",
        "  embedding_model = HuggingFaceEmbeddings(model_name=config['embedding_model'], show_progress=True)\n",
        "  return embedding_model\n",
        "\n",
        "def create_vector_store(text_chunks, embedding_model):\n",
        "  if config['refresh_vector_store'] == 'Y' or not os.path.exists(config['vector_store_name']):\n",
        "      vector_store = FAISS.from_documents(text_chunks, embedding_model)\n",
        "      vector_store.save_local(config['vector_store_name'])\n",
        "  else:\n",
        "      vector_store = FAISS.load_local(config['vector_store_name'], embedding_model, allow_dangerous_deserialization=True)\n",
        "  return vector_store\n",
        "\n",
        "def get_cross_encoder_score(query, results):\n",
        "  cross_encoder = CrossEncoder(config['cross_encoder_model'])\n",
        "  for i, res in enumerate(results):\n",
        "      ce_score = cross_encoder.predict([query, res.page_content])\n",
        "      print(ce_score)\n",
        "\n",
        "def create_chat_client():\n",
        "  return ChatPerplexity(\n",
        "      temperature=0,\n",
        "      pplx_api_key=config['PPLX_API_KEY'],\n",
        "      model=config['chat_model']\n",
        "  )\n",
        "\n",
        "def get_retriever():\n",
        "  retriever = vector_store.as_retriever()\n",
        "  return retriever\n",
        "\n",
        "def get_llm_response(query, results, domain):\n",
        "  system = \"\"\"You are a helpful assistant in {domain} domain.\n",
        "  You are here to help users find products for their requirements from a given list of products.\n",
        "  #####\n",
        "  Here is the context: {context}\n",
        "  #####\n",
        "  \"\"\"\n",
        "  human = \"{query}\"\n",
        "\n",
        "  prompt = ChatPromptTemplate.from_messages([(\"system\", system), (\"human\", human)])\n",
        "\n",
        "  chat = create_chat_client()\n",
        "\n",
        "  chain = prompt | chat\n",
        "  response = chain.invoke(\n",
        "      {\n",
        "          \"context\" : results,\n",
        "          \"domain\" : config['domain'],\n",
        "          \"query\": query,\n",
        "          # \"output_json\" : output_json\n",
        "      }\n",
        "  )\n",
        "  return response.content\n",
        "\n",
        "def rag_pipeline(user_question, retriever):\n",
        "  # Retrieve relevant documents from the vector store based on the user's question.\n",
        "  retrieved_documents = retriever.invoke(user_question)\n",
        "\n",
        "  print(\"\\n--- Retrieved Documents ---\")\n",
        "  for i, doc in enumerate(retrieved_documents):\n",
        "      print(f\"Document {i+1}:\\n{doc.page_content}\\n---\")\n",
        "\n",
        "  # Extract the page content from the retrieved documents and join them into a single context string.\n",
        "  formatted_context = \"\\n\\n\".join(doc.page_content for doc in retrieved_documents)\n",
        "  print(formatted_context)\n",
        "\n",
        "  # Call the large language model with the user's question and the formatted context.\n",
        "  answer = get_llm_response(user_question, formatted_context, config['domain'])\n",
        "  return answer\n",
        "\n",
        "def get_answer(user_query, history):\n",
        "  # return the answer to user query. This function is useful in interaction with Gradio UI\n",
        "  return rag_pipeline(user_query, get_retriever())"
      ]
    },
    {
      "cell_type": "code",
      "execution_count": null,
      "id": "9e890ce3",
      "metadata": {
        "id": "9e890ce3",
        "collapsed": true
      },
      "outputs": [],
      "source": [
        "if __name__ == \"__main__\":\n",
        "    chunked_data = []\n",
        "    # folder_path = Path(config['data_path'])\n",
        "    folder_path = Path(\"/content/data/\")\n",
        "\n",
        "    # Step 1: Generate chunks from the dataset\n",
        "    if config['refresh_vector_store'] == 'Y':\n",
        "        chunked_data = get_data_chunks(folder_path)\n",
        "\n",
        "    # Step 2: Create embeddings and put them into a vector store\n",
        "    embedding_model = get_embeddings_model()\n",
        "    vector_store = create_vector_store(chunked_data, embedding_model)"
      ]
    },
    {
      "cell_type": "code",
      "execution_count": null,
      "id": "98954b82",
      "metadata": {
        "id": "98954b82"
      },
      "outputs": [],
      "source": [
        "# query = \"formal blazers for men\""
      ]
    },
    {
      "cell_type": "code",
      "source": [
        "# rag_pipeline(query, get_retriever())"
      ],
      "metadata": {
        "collapsed": true,
        "id": "K1qv8zfLH2_u"
      },
      "id": "K1qv8zfLH2_u",
      "execution_count": null,
      "outputs": []
    },
    {
      "cell_type": "code",
      "source": [
        "iface = gr.ChatInterface(\n",
        "    get_answer,\n",
        "    type = 'messages',\n",
        "    chatbot=gr.Chatbot(height=300),\n",
        "    textbox=gr.Textbox(placeholder=\"How can I assist you today?\", container=False, scale=7),\n",
        "    title=\"Closet - Fashion Studio\",\n",
        "    description=\"Ask Closet anything about fashion products on Mytra\",\n",
        "    theme=\"soft\",\n",
        "    # examples=[\"Blazers for men\", \"Party dresses for women\", \"Athleisure\" , \"Sports attire\" ],\n",
        "    cache_examples=True,\n",
        ")"
      ],
      "metadata": {
        "id": "423jyFmOw3VK"
      },
      "id": "423jyFmOw3VK",
      "execution_count": null,
      "outputs": []
    },
    {
      "cell_type": "code",
      "source": [
        "iface.launch(share=True, debug=False)"
      ],
      "metadata": {
        "collapsed": true,
        "id": "uxL9g790xU5A"
      },
      "id": "uxL9g790xU5A",
      "execution_count": null,
      "outputs": []
    },
    {
      "cell_type": "code",
      "source": [
        "iface.close()"
      ],
      "metadata": {
        "id": "jVIznsubuZE1"
      },
      "id": "jVIznsubuZE1",
      "execution_count": null,
      "outputs": []
    },
    {
      "cell_type": "code",
      "source": [],
      "metadata": {
        "id": "m-mztzc11p0C"
      },
      "id": "m-mztzc11p0C",
      "execution_count": null,
      "outputs": []
    }
  ],
  "metadata": {
    "kernelspec": {
      "display_name": ".venv",
      "language": "python",
      "name": "python3"
    },
    "language_info": {
      "codemirror_mode": {
        "name": "ipython",
        "version": 3
      },
      "file_extension": ".py",
      "mimetype": "text/x-python",
      "name": "python",
      "nbconvert_exporter": "python",
      "pygments_lexer": "ipython3",
      "version": "3.13.5"
    },
    "colab": {
      "provenance": [],
      "include_colab_link": true
    }
  },
  "nbformat": 4,
  "nbformat_minor": 5
}